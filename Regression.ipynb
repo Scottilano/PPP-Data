{
 "cells": [
  {
   "cell_type": "code",
   "execution_count": 1,
   "metadata": {},
   "outputs": [],
   "source": [
    "import numpy as np\n",
    "import pandas as pd\n",
    "import matplotlib as mpl\n",
    "import matplotlib.pyplot as plt\n",
    "import seaborn as sns\n",
    "import scipy.stats as stats\n",
    "\n",
    "from sklearn.preprocessing import StandardScaler\n",
    "from sklearn.model_selection import train_test_split\n",
    "from sklearn.linear_model import LogisticRegression\n",
    "from sklearn.neural_network import MLPRegressor\n",
    "from sklearn.model_selection import GridSearchCV\n",
    "from sklearn.metrics import roc_auc_score, mean_squared_error, r2_score\n",
    "\n",
    "sns.set_style(\"darkgrid\")\n",
    "\n",
    "# increase plot resolution\n",
    "mpl.rcParams[\"figure.dpi\"] = 150"
   ]
  },
  {
   "cell_type": "code",
   "execution_count": 2,
   "metadata": {},
   "outputs": [],
   "source": [
    "rank = pd.read_csv('Gymboree_PM_Location_by_Sales.csv')\n",
    "df = pd.read_csv('15_Minute_DriveTime_Area_Shopping_Parking_Education.csv')\n",
    "split = pd.read_csv('Gymboree_Store_Split.csv')\n",
    "split.dropna(axis=0,how='all',inplace=True)\n",
    "dis15 = pd.read_csv('Gymboree_Store_Locations_15Mile_IndependVariables_TableToExcel.csv')\n",
    "dis15 = dis15[['Postal', \n",
    "               'child_care_index_mean', \n",
    "               'Children_Population_sum', \n",
    "               'Bought_ChildrenToy_Game_index_mean', \n",
    "               'Bought_ChildrenBook_index_mean']]"
   ]
  },
  {
   "cell_type": "code",
   "execution_count": 3,
   "metadata": {},
   "outputs": [],
   "source": [
    "rank = rank[['Zip Code', '2018 Rank', '2019 Rank']]"
   ]
  },
  {
   "cell_type": "code",
   "execution_count": 4,
   "metadata": {},
   "outputs": [],
   "source": [
    "split = split[['Open', 'Postal']]\n",
    "split.loc[:,'Postal'] = split.loc[:,'Postal'].astype('int')\n",
    "split.loc[:,'Postal'] = split.loc[:,'Postal'].astype('str')\n",
    "for i in range(len(split.loc[:,'Postal'])):\n",
    "    if len(split.loc[i,'Postal']) < 5:\n",
    "        split.loc[i,'Postal'] = '0' * (5-len(split.loc[i,'Postal'])) + split.loc[i,'Postal']\n",
    "    else:\n",
    "        pass"
   ]
  },
  {
   "cell_type": "code",
   "execution_count": 5,
   "metadata": {},
   "outputs": [],
   "source": [
    "df.loc[:,'Postal'] = df.loc[:,'Postal'].astype('int')\n",
    "df.loc[:,'Postal'] = df.loc[:,'Postal'].astype('str')\n",
    "for i in range(len(df.loc[:,'Postal'])):\n",
    "    if len(df.loc[i,'Postal']) < 5:\n",
    "        df.loc[i,'Postal'] = '0' * (5-len(df.loc[i,'Postal'])) + df.loc[i,'Postal']\n",
    "    else:\n",
    "        pass"
   ]
  },
  {
   "cell_type": "code",
   "execution_count": 6,
   "metadata": {},
   "outputs": [],
   "source": [
    "dis15.loc[:,'Postal'] = dis15.loc[:,'Postal'].astype('int')\n",
    "dis15.loc[:,'Postal'] = dis15.loc[:,'Postal'].astype('str')\n",
    "for i in range(len(dis15.loc[:,'Postal'])):\n",
    "    if len(dis15.loc[i,'Postal']) < 5:\n",
    "        dis15.loc[i,'Postal'] = '0' * (5-len(dis15.loc[i,'Postal'])) + dis15.loc[i,'Postal']\n",
    "    else:\n",
    "        pass"
   ]
  },
  {
   "cell_type": "code",
   "execution_count": 7,
   "metadata": {},
   "outputs": [],
   "source": [
    "y = rank.merge(split, how = 'right', left_on='Zip Code', right_on='Postal')\n",
    "y.drop(columns=['Zip Code'], inplace=True)"
   ]
  },
  {
   "cell_type": "code",
   "execution_count": 8,
   "metadata": {},
   "outputs": [],
   "source": [
    "df = df.merge(y, how = 'left', on='Postal')\n",
    "df = df.merge(dis15, how = 'left', on='Postal')"
   ]
  },
  {
   "cell_type": "code",
   "execution_count": 9,
   "metadata": {},
   "outputs": [],
   "source": [
    "df_model = df[['2018 Rank',\n",
    "       '2019 Rank', 'Open', 'sum_populationtotals_totpop_cy',\n",
    "       'mean_populationtotals_totpop_cy', 'sum_householdincome_medhinc_cy',\n",
    "       'mean_householdincome_medhinc_cy', 'sum_homevalue_avgval_cy',\n",
    "       'mean_homevalue_avgval_cy', 'sum_householdtotals_avghhsz_cy',\n",
    "       'mean_householdtotals_avghhsz_cy', 'mean_housinghousehold䀃x_i',\n",
    "       'mean_babyproductstoysgames_mp34001a_b_i',\n",
    "       'mean_leisureactivitieslifestyle_mp05010a_b_i',\n",
    "       'sum_agedependency_child_cy', 'sum_agedependency_child_fy',\n",
    "       'mean_employmentunemployment_unemprt_cy_i', 'mean_health聕x_i',\n",
    "       'mean_households_acsapovmcf_p', 'mean_populationtotals_popgrwcyfy_i',\n",
    "       'mean_householdtotals_hhgrwcyfy_i', 'mean_householdincome_mhigrwcyfy_i',\n",
    "       'School_Count', 'Parking_Count', 'Shopping_Count', 'child_care_index_mean', 'Children_Population_sum',\n",
    "       'Bought_ChildrenToy_Game_index_mean', 'Bought_ChildrenBook_index_mean']]"
   ]
  },
  {
   "cell_type": "code",
   "execution_count": 10,
   "metadata": {},
   "outputs": [
    {
     "name": "stderr",
     "output_type": "stream",
     "text": [
      "/Users/robin/opt/anaconda3/lib/python3.8/site-packages/pandas/core/indexing.py:966: SettingWithCopyWarning: \n",
      "A value is trying to be set on a copy of a slice from a DataFrame.\n",
      "Try using .loc[row_indexer,col_indexer] = value instead\n",
      "\n",
      "See the caveats in the documentation: https://pandas.pydata.org/pandas-docs/stable/user_guide/indexing.html#returning-a-view-versus-a-copy\n",
      "  self.obj[item] = s\n"
     ]
    }
   ],
   "source": [
    "for i in range(len(df_model)):\n",
    "    if pd.isna(df_model.loc[i,'2018 Rank']):\n",
    "        df_model.loc[i,'2018 Rank'] = df_model.loc[i,'Open']\n",
    "    else:\n",
    "        pass\n",
    "for i in range(len(df_model)):\n",
    "    if pd.isna(df_model.loc[i,'2019 Rank']):\n",
    "        df_model.loc[i,'2019 Rank'] = df_model.loc[i,'Open']\n",
    "    else:\n",
    "        pass"
   ]
  },
  {
   "cell_type": "code",
   "execution_count": 11,
   "metadata": {},
   "outputs": [
    {
     "name": "stderr",
     "output_type": "stream",
     "text": [
      "<ipython-input-11-0a5cf9896b00>:1: SettingWithCopyWarning: \n",
      "A value is trying to be set on a copy of a slice from a DataFrame.\n",
      "Try using .loc[row_indexer,col_indexer] = value instead\n",
      "\n",
      "See the caveats in the documentation: https://pandas.pydata.org/pandas-docs/stable/user_guide/indexing.html#returning-a-view-versus-a-copy\n",
      "  df_model['Success'] = np.nan\n"
     ]
    }
   ],
   "source": [
    "df_model['Success'] = np.nan\n",
    "for i in range(len(df_model)):\n",
    "    if df_model.loc[i, '2019 Rank'] == 'Top (1st) 20%' or df_model.loc[i, '2019 Rank'] == '2nd 20%' or df_model.loc[i, '2019 Rank'] == '3rd 20%':\n",
    "        df_model.loc[i, 'Success'] = 1\n",
    "    else:\n",
    "        df_model.loc[i, 'Success'] = 0"
   ]
  },
  {
   "cell_type": "code",
   "execution_count": 12,
   "metadata": {},
   "outputs": [],
   "source": [
    "# standardize the numeric variables in intuit75k\n",
    "# list all numeric variables in the data\n",
    "is_num = ['sum_populationtotals_totpop_cy',\n",
    "          'mean_populationtotals_totpop_cy', \n",
    "          'sum_householdincome_medhinc_cy',\n",
    "          'mean_householdincome_medhinc_cy', \n",
    "          'sum_homevalue_avgval_cy',\n",
    "          'mean_homevalue_avgval_cy', \n",
    "          'sum_householdtotals_avghhsz_cy',\n",
    "          'mean_householdtotals_avghhsz_cy', \n",
    "          'mean_housinghousehold䀃x_i',\n",
    "          'mean_babyproductstoysgames_mp34001a_b_i',\n",
    "          'mean_leisureactivitieslifestyle_mp05010a_b_i',\n",
    "          'sum_agedependency_child_cy', \n",
    "          'sum_agedependency_child_fy',\n",
    "          'mean_employmentunemployment_unemprt_cy_i', \n",
    "          'mean_health聕x_i',\n",
    "          'mean_households_acsapovmcf_p', \n",
    "          'mean_populationtotals_popgrwcyfy_i',\n",
    "          'mean_householdtotals_hhgrwcyfy_i', \n",
    "          'mean_householdincome_mhigrwcyfy_i',\n",
    "          'School_Count', \n",
    "          'Parking_Count', \n",
    "          'Shopping_Count', \n",
    "          'child_care_index_mean', \n",
    "          'Children_Population_sum',\n",
    "          'Bought_ChildrenToy_Game_index_mean', \n",
    "          'Bought_ChildrenBook_index_mean']\n",
    "\n",
    "# scale by (x - mean(x)) / sd(x)\n",
    "scaler = StandardScaler()\n",
    "sf = scaler.fit(df_model[is_num])\n",
    "\n",
    "# standardize buyers\n",
    "df_model_std = df_model.copy()\n",
    "df_model_std[is_num] = sf.transform(df_model_std[is_num])"
   ]
  },
  {
   "cell_type": "code",
   "execution_count": 13,
   "metadata": {},
   "outputs": [],
   "source": [
    "evar = ['School_Count', \n",
    "        'Parking_Count', \n",
    "        'Shopping_Count', \n",
    "        'mean_populationtotals_totpop_cy',\n",
    "        'mean_householdincome_medhinc_cy', \n",
    "        'mean_employmentunemployment_unemprt_cy_i', \n",
    "        'mean_homevalue_avgval_cy',\n",
    "        'mean_babyproductstoysgames_mp34001a_b_i',\n",
    "        'child_care_index_mean', \n",
    "        'Bought_ChildrenBook_index_mean']"
   ]
  },
  {
   "cell_type": "code",
   "execution_count": 14,
   "metadata": {},
   "outputs": [],
   "source": [
    "X = df_model_std[evar]\n",
    "y = df_model_std.Success\n",
    "X_train, X_test, y_train, y_test = train_test_split(X, y, test_size=0.30, random_state=42)"
   ]
  },
  {
   "cell_type": "code",
   "execution_count": 15,
   "metadata": {},
   "outputs": [],
   "source": [
    "lr1 = LogisticRegression(random_state=42).fit(X_train, y_train)"
   ]
  },
  {
   "cell_type": "code",
   "execution_count": 16,
   "metadata": {},
   "outputs": [
    {
     "name": "stdout",
     "output_type": "stream",
     "text": [
      "The AUC for train set is 0.6547.\n",
      "The AUC for test set is 0.7778.\n",
      "The difference is 18.8%.\n"
     ]
    }
   ],
   "source": [
    "train_AUC = roc_auc_score(y_train, lr1.predict(X_train))\n",
    "print(f\"\"\"The AUC for train set is {round(train_AUC, 4)}.\"\"\")\n",
    "\n",
    "test_AUC = roc_auc_score(y_test, lr1.predict(X_test))\n",
    "print(f\"\"\"The AUC for test set is {round(test_AUC, 4)}.\"\"\")\n",
    "\n",
    "diff = (test_AUC - train_AUC)/train_AUC\n",
    "print(f\"\"\"The difference is {round(diff*100, 2)}%.\"\"\")"
   ]
  },
  {
   "cell_type": "code",
   "execution_count": 17,
   "metadata": {},
   "outputs": [],
   "source": [
    "def nn(X, y, hls=(1,), max_iter=10000):\n",
    "    return MLPRegressor(\n",
    "        hidden_layer_sizes=hls, \n",
    "        activation='relu', \n",
    "        solver='adam', \n",
    "        max_iter=max_iter,\n",
    "        alpha=0.01,       \n",
    "        shuffle=True,\n",
    "        verbose=False,\n",
    "        random_state = 1234).fit(X, y)"
   ]
  },
  {
   "cell_type": "code",
   "execution_count": 18,
   "metadata": {},
   "outputs": [
    {
     "name": "stdout",
     "output_type": "stream",
     "text": [
      "Fitting 10 folds for each of 20 candidates, totalling 200 fits\n"
     ]
    },
    {
     "name": "stderr",
     "output_type": "stream",
     "text": [
      "[Parallel(n_jobs=4)]: Using backend LokyBackend with 4 concurrent workers.\n",
      "[Parallel(n_jobs=4)]: Done  10 tasks      | elapsed:    1.3s\n",
      "[Parallel(n_jobs=4)]: Done  64 tasks      | elapsed:    3.4s\n",
      "[Parallel(n_jobs=4)]: Done 200 out of 200 | elapsed:    7.9s finished\n"
     ]
    },
    {
     "data": {
      "text/plain": [
       "GridSearchCV(cv=10,\n",
       "             estimator=MLPRegressor(alpha=0.01, hidden_layer_sizes=(1,),\n",
       "                                    max_iter=10000, random_state=1234),\n",
       "             n_jobs=4,\n",
       "             param_grid={'alpha': [0.5, 0.1, 0.05, 0.01],\n",
       "                         'hidden_layer_sizes': [(1,), (3, 3), (5, 5), (7, 7),\n",
       "                                                (9, 9)]},\n",
       "             refit='r2', scoring={'r2': 'r2'}, verbose=5)"
      ]
     },
     "execution_count": 18,
     "metadata": {},
     "output_type": "execute_result"
    }
   ],
   "source": [
    "hls = [(1,), (3,3), (5,5), (7,7), (9,9)]\n",
    "# activation = ['relu', 'tanh']\n",
    "# solver = ['lbfgs', 'adam']\n",
    "alpha = [0.5, 0.1, 0.05, 0.01]\n",
    "\n",
    "param_grid = {\"hidden_layer_sizes\": hls,\n",
    "              # \"activation\": activation,\n",
    "              # \"solver\": solver,\n",
    "              \"alpha\": alpha}\n",
    "\n",
    "scoring = {\"r2\": \"r2\"}\n",
    "\n",
    "reg_nn = nn(X_train, y_train)\n",
    "reg_nn_cv = GridSearchCV(\n",
    "    reg_nn, param_grid, scoring=scoring, cv=10, n_jobs=4, refit=\"r2\", verbose=5\n",
    ")\n",
    "reg_nn_cv.fit(X_train, y_train)"
   ]
  },
  {
   "cell_type": "code",
   "execution_count": 19,
   "metadata": {},
   "outputs": [
    {
     "data": {
      "text/plain": [
       "{'alpha': 0.5, 'hidden_layer_sizes': (1,)}"
      ]
     },
     "execution_count": 19,
     "metadata": {},
     "output_type": "execute_result"
    }
   ],
   "source": [
    "reg_nn_cv.best_params_"
   ]
  },
  {
   "cell_type": "code",
   "execution_count": 20,
   "metadata": {},
   "outputs": [
    {
     "data": {
      "text/plain": [
       "-0.18801108357380336"
      ]
     },
     "execution_count": 20,
     "metadata": {},
     "output_type": "execute_result"
    }
   ],
   "source": [
    "reg_nn_cv.best_score_"
   ]
  },
  {
   "cell_type": "code",
   "execution_count": 21,
   "metadata": {},
   "outputs": [],
   "source": [
    "nn = MLPRegressor(\n",
    "        hidden_layer_sizes=(1,), \n",
    "        activation='relu', \n",
    "        solver='adam', \n",
    "        max_iter=10000,\n",
    "        alpha=0.5,       \n",
    "        shuffle=True,\n",
    "        verbose=False,\n",
    "        random_state = 1234).fit(X_train, y_train)"
   ]
  },
  {
   "cell_type": "code",
   "execution_count": 22,
   "metadata": {},
   "outputs": [
    {
     "name": "stdout",
     "output_type": "stream",
     "text": [
      "The AUC for train set is 0.7618.\n",
      "The AUC for test set is 0.8267.\n",
      "The difference is 8.51%.\n"
     ]
    }
   ],
   "source": [
    "train_AUC = roc_auc_score(y_train, nn.predict(X_train))\n",
    "print(f\"\"\"The AUC for train set is {round(train_AUC, 4)}.\"\"\")\n",
    "\n",
    "test_AUC = roc_auc_score(y_test, nn.predict(X_test))\n",
    "print(f\"\"\"The AUC for test set is {round(test_AUC, 4)}.\"\"\")\n",
    "\n",
    "diff = (test_AUC - train_AUC)/train_AUC\n",
    "print(f\"\"\"The difference is {round(diff*100, 2)}%.\"\"\")"
   ]
  },
  {
   "cell_type": "code",
   "execution_count": null,
   "metadata": {},
   "outputs": [],
   "source": []
  }
 ],
 "metadata": {
  "kernelspec": {
   "display_name": "Python 3",
   "language": "python",
   "name": "python3"
  },
  "language_info": {
   "codemirror_mode": {
    "name": "ipython",
    "version": 3
   },
   "file_extension": ".py",
   "mimetype": "text/x-python",
   "name": "python",
   "nbconvert_exporter": "python",
   "pygments_lexer": "ipython3",
   "version": "3.8.3"
  }
 },
 "nbformat": 4,
 "nbformat_minor": 4
}
