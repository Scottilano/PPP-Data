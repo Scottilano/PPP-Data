{
 "cells": [
  {
   "cell_type": "markdown",
   "metadata": {},
   "source": [
    "## 1. Import Packages"
   ]
  },
  {
   "cell_type": "code",
   "execution_count": 1,
   "metadata": {},
   "outputs": [],
   "source": [
    "import numpy as np\n",
    "import pandas as pd\n",
    "import matplotlib as mpl\n",
    "import matplotlib.pyplot as plt\n",
    "import seaborn as sns\n",
    "import pyrsm as rsm\n",
    "\n",
    "sns.set_style(\"darkgrid\")\n",
    "\n",
    "# increase plot resolution\n",
    "mpl.rcParams[\"figure.dpi\"] = 150"
   ]
  },
  {
   "cell_type": "markdown",
   "metadata": {},
   "source": [
    "## 2. Import DataFrames"
   ]
  },
  {
   "cell_type": "code",
   "execution_count": 2,
   "metadata": {},
   "outputs": [
    {
     "name": "stderr",
     "output_type": "stream",
     "text": [
      "/Users/robin/opt/anaconda3/lib/python3.8/site-packages/IPython/core/interactiveshell.py:3071: DtypeWarning: Columns (17,51) have mixed types.Specify dtype option on import or set low_memory=False.\n",
      "  has_raised = await self.run_ast_nodes(code_ast.body, cell_name,\n"
     ]
    }
   ],
   "source": [
    "# import SBA combined data\n",
    "df = pd.read_csv('combined.csv')\n",
    "# remove the format column\n",
    "df.drop(columns='Unnamed: 0', inplace=True)\n",
    "# fill null value with 'N' in NonProfit column\n",
    "df['NonProfit'] = df['NonProfit'].fillna('N')\n",
    "#df.dtypes"
   ]
  },
  {
   "cell_type": "code",
   "execution_count": 3,
   "metadata": {},
   "outputs": [],
   "source": [
    "# import NAICS code reference\n",
    "naics = pd.read_csv('6-digit_2017_Codes.csv')\n",
    "# remove the format column\n",
    "naics.drop(columns='Unnamed: 2', inplace=True)\n",
    "# rename columns\n",
    "naics.rename(columns={\"2017 NAICS Code\": \"NAICSCode\", '2017 NAICS Title':'Industry'}, inplace=True)\n",
    "# change Code into Integer\n",
    "naics.loc[:,'NAICSCode'] = naics.loc[:,'NAICSCode'].astype('int')\n",
    "# change code into String\n",
    "naics.loc[:,'NAICSCode'] = naics.loc[:,'NAICSCode'].astype('str')"
   ]
  },
  {
   "cell_type": "code",
   "execution_count": 4,
   "metadata": {},
   "outputs": [],
   "source": [
    "# fill null value with 0 in NAICSCode column\n",
    "df['NAICSCode'] = df['NAICSCode'].fillna(0)\n",
    "# change NAICS Code into Integer\n",
    "df.loc[:,'NAICSCode'] = df.loc[:,'NAICSCode'].astype('int')\n",
    "# change variables into categorical\n",
    "df.loc[:,['SBAOfficeCode', 'ServicingLenderLocationID', 'NAICSCode', 'OriginatingLenderLocationID']]\\\n",
    "    = df.loc[:,['SBAOfficeCode', 'ServicingLenderLocationID', 'NAICSCode', 'OriginatingLenderLocationID']].astype('str')"
   ]
  },
  {
   "cell_type": "code",
   "execution_count": 5,
   "metadata": {},
   "outputs": [],
   "source": [
    "# merge SBA and NAICS reference\n",
    "df = df.merge(naics, on='NAICSCode', how='left')"
   ]
  },
  {
   "cell_type": "markdown",
   "metadata": {},
   "source": [
    "## 3. Summarize Data"
   ]
  },
  {
   "cell_type": "code",
   "execution_count": 6,
   "metadata": {},
   "outputs": [],
   "source": [
    "# define categorical and numerical variables lists\n",
    "cat = []\n",
    "num = []\n",
    "# loop in all columns in the DataFrame\n",
    "for col in df.columns:\n",
    "    # set condition that data type equals object\n",
    "    if df[col].dtype == object:\n",
    "        # append to categorical variable list if True\n",
    "        cat.append(col)\n",
    "    else:\n",
    "        # append to numerical variable list if False\n",
    "        num.append(col)"
   ]
  },
  {
   "cell_type": "code",
   "execution_count": 7,
   "metadata": {},
   "outputs": [],
   "source": [
    "# build numerical data info DataFrame\n",
    "num_df = pd.DataFrame({'Column Name':num,\n",
    "                       '# of Records':np.NaN,\n",
    "                       '% populated':np.NaN,\n",
    "                       'Unique Values':np.NaN,\n",
    "                       'Mean':np.NaN,\n",
    "                       'Standard Deviation':np.NaN,\n",
    "                       'Minimum Value':np.NaN,\n",
    "                       'Maximum Value':np.NaN,\n",
    "                       '# of Zeros':np.NaN})\n",
    "# calculate summary info\n",
    "for i in range(len(num)):\n",
    "    num_df.loc[i,'# of Records'] = df[num[i]].count()\n",
    "    num_df.loc[i,'% populated'] = num_df['# of Records'][i]/len(df)*100\n",
    "    num_df.loc[i,'Unique Values'] = len(df[num[i]].dropna().unique())\n",
    "    num_df.loc[i,'Mean'] = df[num[i]].mean()\n",
    "    num_df.loc[i,'Standard Deviation'] = df[num[i]].std()\n",
    "    num_df.loc[i,'Minimum Value'] = df[num[i]].min()\n",
    "    num_df.loc[i,'Maximum Value'] = df[num[i]].max()\n",
    "    num_df.loc[i,'# of Zeros'] = (df[num[i]] == 0).sum(axis=0)\n",
    "# show summary info\n",
    "num_df\n",
    "# save summary info into csv\n",
    "num_df.to_csv('num_df.csv')"
   ]
  },
  {
   "cell_type": "code",
   "execution_count": 8,
   "metadata": {},
   "outputs": [],
   "source": [
    "# build categorical data info DataFrame\n",
    "cat_df = pd.DataFrame({'Column Name':cat,\n",
    "                       '# of Records':np.NaN,\n",
    "                       '% populated':np.NaN,\n",
    "                       'Unique Values':np.NaN,\n",
    "                       'Most Common':np.NaN})\n",
    "# calculate summary info\n",
    "for i in range(len(cat)):\n",
    "    cat_df.loc[i,'# of Records'] = df[cat[i]].count()\n",
    "    cat_df.loc[i,'% populated'] = cat_df['# of Records'][i]/len(df)*100\n",
    "    cat_df.loc[i,'Unique Values'] = len(df[cat[i]].dropna().unique())\n",
    "    cat_df.loc[i,'Most Common'] = df[cat[i]].mode()[0]\n",
    "# For unique value, don't show mode value\n",
    "for i in range(len(cat_df)):\n",
    "    if cat_df.loc[i,'# of Records'] == cat_df['Unique Values'][i]:\n",
    "        cat_df.loc[i,'Most Common'] = '-'\n",
    "# show summary info_df\n",
    "cat_df\n",
    "# save summary info into csv\n",
    "cat_df.to_csv('cat_df.csv')"
   ]
  },
  {
   "cell_type": "markdown",
   "metadata": {},
   "source": [
    "## 4. Visulizing Data"
   ]
  },
  {
   "cell_type": "code",
   "execution_count": null,
   "metadata": {},
   "outputs": [],
   "source": [
    "# boxplot for each categorical variable\n",
    "for i in cat:\n",
    "    sns.catplot(x=i, kind=\"count\", palette=\"crest\", data=df, order=df[i].value_counts().iloc[:8].index)\\\n",
    "       .set(xlabel=i, ylabel='Count')\\\n",
    "       .set_xticklabels(rotation=90)\n",
    "    plt.savefig(\"df/\"+i+\".png\", bbox_inches = \"tight\")"
   ]
  },
  {
   "cell_type": "code",
   "execution_count": null,
   "metadata": {},
   "outputs": [],
   "source": [
    "# histplot for each numerical variable\n",
    "for i, col in enumerate(num):\n",
    "    plt.figure(i)\n",
    "    sns.histplot(data=df, x=col, color=\"darkseagreen\")\\\n",
    "       .set(xlabel=col, ylabel='Count')\n",
    "    plt.savefig(\"df/num/\"+col+\".png\", bbox_inches = \"tight\")"
   ]
  },
  {
   "cell_type": "code",
   "execution_count": null,
   "metadata": {},
   "outputs": [],
   "source": [
    "# example for boxplot single categorical variable\n",
    "sns.catplot(x=\"ProcessingMethod\", kind=\"count\", data=df, order=df['ProcessingMethod'].value_counts().index)\\\n",
    "   .set(xlabel='Processing Method', ylabel='Count')#\\\n",
    "   #.set_xticklabels(rotation=90)\n",
    "#plt.savefig(\"figure.png\", bbox_inches = \"tight\")"
   ]
  },
  {
   "cell_type": "code",
   "execution_count": null,
   "metadata": {},
   "outputs": [],
   "source": [
    "# calculate included data in histplot in percentage\n",
    "len(ecbg[ecbg.Shape__Len <= 2000000])/len(ecbg)"
   ]
  },
  {
   "cell_type": "markdown",
   "metadata": {},
   "source": [
    "## 5. Aggregate Data"
   ]
  },
  {
   "cell_type": "code",
   "execution_count": 9,
   "metadata": {},
   "outputs": [],
   "source": [
    "# make a list of variables that need to be groupby\n",
    "groupby_list = ['Term', \n",
    "                'SBAOfficeCode', \n",
    "                'ProcessingMethod', \n",
    "                'BorrowerCity', \n",
    "                'BorrowerState', \n",
    "                'LoanStatus', \n",
    "                'FranchiseName', \n",
    "                'ServicingLenderCity', \n",
    "                'ServicingLenderState', \n",
    "                'RuralUrbanIndicator', \n",
    "                'HubzoneIndicator', \n",
    "                'LMIIndicator', \n",
    "                'BusinessAgeDescription', \n",
    "                'ProjectCity', \n",
    "                'ProjectCountyName', \n",
    "                'ProjectState', \n",
    "                'CD', \n",
    "                'Industry', \n",
    "                'Race', \n",
    "                'Ethnicity', \n",
    "                'BusinessType', \n",
    "                'OriginatingLender', \n",
    "                'OriginatingLenderCity', \n",
    "                'OriginatingLenderState', \n",
    "                'Gender', \n",
    "                'Veteran', \n",
    "                'NonProfit']\n",
    "# make a list of variables that need to be calculated after groupby\n",
    "num_list = ['InitialApprovalAmount',\n",
    "            'CurrentApprovalAmount',\n",
    "            'UndisbursedAmount', \n",
    "            'UTILITIES_PROCEED', \n",
    "            'PAYROLL_PROCEED', \n",
    "            'MORTGAGE_INTEREST_PROCEED',\n",
    "            'RENT_PROCEED', \n",
    "            'REFINANCE_EIDL_PROCEED', \n",
    "            'HEALTH_CARE_PROCEED', \n",
    "            'DEBT_INTEREST_PROCEED', \n",
    "            'ForgivenessAmount']"
   ]
  },
  {
   "cell_type": "code",
   "execution_count": 10,
   "metadata": {},
   "outputs": [],
   "source": [
    "# aggregate dataframe\n",
    "for i in groupby_list:\n",
    "    agg_df = df.groupby([i])[num_list].sum().reset_index()\n",
    "    agg_df['count'] = agg_df[i].map(df[i].value_counts())\n",
    "    agg_df.to_csv('agg_df/'+i+'.csv')"
   ]
  }
 ],
 "metadata": {
  "kernelspec": {
   "display_name": "Python 3",
   "language": "python",
   "name": "python3"
  },
  "language_info": {
   "codemirror_mode": {
    "name": "ipython",
    "version": 3
   },
   "file_extension": ".py",
   "mimetype": "text/x-python",
   "name": "python",
   "nbconvert_exporter": "python",
   "pygments_lexer": "ipython3",
   "version": "3.7.4"
  }
 },
 "nbformat": 4,
 "nbformat_minor": 5
}
